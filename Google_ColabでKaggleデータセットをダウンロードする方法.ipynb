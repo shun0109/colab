{
  "cells": [
    {
      "cell_type": "markdown",
      "metadata": {
        "id": "view-in-github",
        "colab_type": "text"
      },
      "source": [
        "<a href=\"https://colab.research.google.com/github/shun0109/colab/blob/main/Google_Colab%E3%81%A7Kaggle%E3%83%87%E3%83%BC%E3%82%BF%E3%82%BB%E3%83%83%E3%83%88%E3%82%92%E3%83%80%E3%82%A6%E3%83%B3%E3%83%AD%E3%83%BC%E3%83%89%E3%81%99%E3%82%8B%E6%96%B9%E6%B3%95.ipynb\" target=\"_parent\"><img src=\"https://colab.research.google.com/assets/colab-badge.svg\" alt=\"Open In Colab\"/></a>"
      ]
    },
    {
      "cell_type": "markdown",
      "metadata": {
        "id": "Cg9UWMbfo3iE"
      },
      "source": [
        "# Google ColabでKaggleデータセットをダウンロードする方法"
      ]
    },
    {
      "cell_type": "markdown",
      "metadata": {
        "id": "Oq2N1-Tio3iE"
      },
      "source": [
        "Google Colabは無料で利用できるクラウドベースのJupyter Notebook環境です。Colabを使うと、ブラウザ上でPythonコードを実行し、機械学習モデルの構築やデータ分析を手軽に行えます。ここでは、Google ColabでKaggleのデータセットをダウンロードする手順を解説します。"
      ]
    },
    {
      "cell_type": "markdown",
      "metadata": {
        "id": "FAc7-j-co3iE"
      },
      "source": [
        "## 事前準備"
      ]
    },
    {
      "cell_type": "markdown",
      "metadata": {
        "id": "EQGXNOQlo3iE"
      },
      "source": [
        "1. Kaggleアカウントを作成し、ログインしておきます。\n",
        "2. Kaggleの`Account`設定ページから`Create New API Token`をクリックし、`kaggle.json`ファイルをダウンロードします。"
      ]
    },
    {
      "cell_type": "markdown",
      "metadata": {
        "id": "zYZX4K9Ro3iE"
      },
      "source": [
        "## 手順"
      ]
    },
    {
      "cell_type": "markdown",
      "metadata": {
        "id": "RN5bDx5Bo3iE"
      },
      "source": [
        "### ステップ1: Secretsの設定"
      ]
    },
    {
      "cell_type": "markdown",
      "metadata": {
        "id": "hO2oQws2o3iF"
      },
      "source": [
        "1. Colabのノートブックを開き、右上の`ランタイム`をクリックし、`ランタイムのタイプを変更`を選択します。\n",
        "2. ハードウェアアクセラレータを`なし`に設定し、`保存`をクリックします。\n",
        "3. ノートブックの最初のセルに以下のコードを入力し、実行します。"
      ]
    },
    {
      "cell_type": "markdown",
      "metadata": {
        "id": "nuvAkfe1o3iF"
      },
      "source": [
        "APIキーは`kaggle.json`ファイルの中にある`key`の値です。"
      ]
    },
    {
      "cell_type": "markdown",
      "metadata": {
        "id": "tC5Dy0Azo3iF"
      },
      "source": [
        "### ステップ2: 認証情報の設定"
      ]
    },
    {
      "cell_type": "markdown",
      "metadata": {
        "id": "CFjLyE5io3iF"
      },
      "source": [
        "以下のコードを新しいセルに入力し、実行します。"
      ]
    },
    {
      "cell_type": "code",
      "execution_count": null,
      "metadata": {
        "id": "i9DT7ofro3iF"
      },
      "outputs": [],
      "source": [
        "from google.colab import userdata\n",
        "import os\n",
        "\n",
        "os.environ[\"KAGGLE_KEY\"] = userdata.get('KAGGLE_KEY')\n",
        "os.environ[\"KAGGLE_USERNAME\"] = userdata.get('KAGGLE_USERNAME')"
      ]
    },
    {
      "cell_type": "markdown",
      "metadata": {
        "id": "HXF3BfOEo3iF"
      },
      "source": [
        "これにより、KaggleのAPIキーとユーザー名が環境変数に設定されます。"
      ]
    },
    {
      "cell_type": "markdown",
      "metadata": {
        "id": "kXK3oMCwo3iF"
      },
      "source": [
        "### ステップ3: kaggleライブラリのインストール"
      ]
    },
    {
      "cell_type": "markdown",
      "metadata": {
        "id": "huGKFYYXo3iG"
      },
      "source": [
        "次に、以下のコマンドを実行し、kaggleライブラリをインストールします。"
      ]
    },
    {
      "cell_type": "code",
      "execution_count": null,
      "metadata": {
        "id": "Zs_KRSY_o3iG",
        "colab": {
          "base_uri": "https://localhost:8080/"
        },
        "outputId": "6297f11e-3304-402e-83b3-acbba25b4860"
      },
      "outputs": [
        {
          "output_type": "stream",
          "name": "stdout",
          "text": [
            "Requirement already satisfied: kaggle in /usr/local/lib/python3.10/dist-packages (1.5.16)\n",
            "Requirement already satisfied: six>=1.10 in /usr/local/lib/python3.10/dist-packages (from kaggle) (1.16.0)\n",
            "Requirement already satisfied: certifi in /usr/local/lib/python3.10/dist-packages (from kaggle) (2024.2.2)\n",
            "Requirement already satisfied: python-dateutil in /usr/local/lib/python3.10/dist-packages (from kaggle) (2.8.2)\n",
            "Requirement already satisfied: requests in /usr/local/lib/python3.10/dist-packages (from kaggle) (2.31.0)\n",
            "Requirement already satisfied: tqdm in /usr/local/lib/python3.10/dist-packages (from kaggle) (4.66.2)\n",
            "Requirement already satisfied: python-slugify in /usr/local/lib/python3.10/dist-packages (from kaggle) (8.0.4)\n",
            "Requirement already satisfied: urllib3 in /usr/local/lib/python3.10/dist-packages (from kaggle) (2.0.7)\n",
            "Requirement already satisfied: bleach in /usr/local/lib/python3.10/dist-packages (from kaggle) (6.1.0)\n",
            "Requirement already satisfied: webencodings in /usr/local/lib/python3.10/dist-packages (from bleach->kaggle) (0.5.1)\n",
            "Requirement already satisfied: text-unidecode>=1.3 in /usr/local/lib/python3.10/dist-packages (from python-slugify->kaggle) (1.3)\n",
            "Requirement already satisfied: charset-normalizer<4,>=2 in /usr/local/lib/python3.10/dist-packages (from requests->kaggle) (3.3.2)\n",
            "Requirement already satisfied: idna<4,>=2.5 in /usr/local/lib/python3.10/dist-packages (from requests->kaggle) (3.6)\n"
          ]
        }
      ],
      "source": [
        "!pip install kaggle"
      ]
    },
    {
      "cell_type": "markdown",
      "metadata": {
        "id": "CluQEvuGo3iG"
      },
      "source": [
        "### ステップ4: データセットのダウンロード"
      ]
    },
    {
      "cell_type": "markdown",
      "metadata": {
        "id": "kX8W0jC0o3iG"
      },
      "source": [
        "以下のコマンドを実行し、目的のデータセットをダウンロードします。`dataset-name`は実際のデータセット名に置き換えてください。"
      ]
    },
    {
      "cell_type": "code",
      "source": [
        "!kaggle -h"
      ],
      "metadata": {
        "colab": {
          "base_uri": "https://localhost:8080/"
        },
        "id": "0Bth-aGkYJww",
        "outputId": "257b1e06-ed78-40d7-ad74-c3d170342700"
      },
      "execution_count": null,
      "outputs": [
        {
          "output_type": "stream",
          "name": "stdout",
          "text": [
            "usage: kaggle [-h] [-v] {competitions,c,datasets,d,kernels,k,models,m,files,f,config} ...\n",
            "\n",
            "options:\n",
            "  -h, --help            show this help message and exit\n",
            "  -v, --version         show program's version number and exit\n",
            "\n",
            "commands:\n",
            "  {competitions,c,datasets,d,kernels,k,models,m,files,f,config}\n",
            "                        Use one of:\n",
            "                        competitions {list, files, download, submit, submissions, leaderboard}\n",
            "                        datasets {list, files, download, create, version, init, metadata, status}\n",
            "                        kernels {list, init, push, pull, output, status}\n",
            "                        config {view, set, unset}\n",
            "    competitions (c)    Commands related to Kaggle competitions\n",
            "    datasets (d)        Commands related to Kaggle datasets\n",
            "    kernels (k)         Commands related to Kaggle kernels\n",
            "    files (f)           Commands related files\n",
            "    config              Configuration settings\n"
          ]
        }
      ]
    },
    {
      "cell_type": "code",
      "execution_count": null,
      "metadata": {
        "id": "kPF7TZyno3iG",
        "colab": {
          "base_uri": "https://localhost:8080/"
        },
        "outputId": "595661e5-86aa-429f-d20b-1f1e8cb1a89b"
      },
      "outputs": [
        {
          "output_type": "stream",
          "name": "stdout",
          "text": [
            "Downloading ai-mathematical-olympiad-prize.zip to /content\n",
            "\r  0% 0.00/117k [00:00<?, ?B/s]\n",
            "\r100% 117k/117k [00:00<00:00, 52.9MB/s]\n"
          ]
        }
      ],
      "source": [
        "#!kaggle datasets download dataset-name\n",
        "!kaggle competitions download ai-mathematical-olympiad-prize"
      ]
    },
    {
      "cell_type": "markdown",
      "metadata": {
        "id": "FezzoUBHo3iG"
      },
      "source": [
        "### ステップ5: データセットの解凍"
      ]
    },
    {
      "cell_type": "markdown",
      "metadata": {
        "id": "1CXdGCBOo3iG"
      },
      "source": [
        "ダウンロードしたデータセットは通常ZIP形式で圧縮されています。以下のコマンドで解凍します。`dataset.zip`は実際のZIPファイル名に置き換えてください。"
      ]
    },
    {
      "cell_type": "code",
      "execution_count": null,
      "metadata": {
        "id": "8fSv3SX8o3iG",
        "colab": {
          "base_uri": "https://localhost:8080/"
        },
        "outputId": "16e08a0a-a5c1-431d-9ffc-421471401600"
      },
      "outputs": [
        {
          "output_type": "stream",
          "name": "stdout",
          "text": [
            "Archive:  ai-mathematical-olympiad-prize.zip\n",
            "  inflating: ai-mathematical-olympiad-prize/AIMO Prize - Note on Language and Notation.pdf  \n",
            "  inflating: ai-mathematical-olympiad-prize/sample_submission.csv  \n",
            "  inflating: ai-mathematical-olympiad-prize/test.csv  \n",
            "  inflating: ai-mathematical-olympiad-prize/train.csv  \n"
          ]
        }
      ],
      "source": [
        "!unzip ai-mathematical-olympiad-prize -d ai-mathematical-olympiad-prize"
      ]
    },
    {
      "cell_type": "markdown",
      "metadata": {
        "id": "13KiCoa4o3iG"
      },
      "source": [
        "以上の手順で、Google ColabでKaggleのデータセットをダウンロードし、解凍することができます。Secretsを使用することで、認証情報を安全に管理しながらKaggleのデータセットにアクセスできます。\n",
        "\n",
        "あとは、解凍したデータを使ってデータ分析や機械学習モデルの構築を進めていきましょう。Google Colabを活用することで、高性能な計算環境を無料で利用でき、Kaggleのデータセットを使った実験も容易に行えます。この記事が、皆さんのデータサイエンスの学習や研究に役立つことを願っています。"
      ]
    }
  ],
  "metadata": {
    "colab": {
      "provenance": [],
      "include_colab_link": true
    },
    "kernelspec": {
      "display_name": "Python 3",
      "name": "python3"
    },
    "language_info": {
      "name": "python"
    }
  },
  "nbformat": 4,
  "nbformat_minor": 0
}